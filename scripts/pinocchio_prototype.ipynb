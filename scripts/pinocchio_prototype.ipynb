{
 "cells": [
  {
   "cell_type": "markdown",
   "metadata": {},
   "source": [
    "# Pinocchio Geometry Examples "
   ]
  },
  {
   "cell_type": "markdown",
   "metadata": {},
   "source": [
    "## 1. setup"
   ]
  },
  {
   "cell_type": "code",
   "execution_count": 1,
   "metadata": {},
   "outputs": [],
   "source": [
    "import pinocchio as pin\n",
    "from utils import MeshcatVisualizer"
   ]
  },
  {
   "cell_type": "markdown",
   "metadata": {},
   "source": [
    "load the robot and visualize it:"
   ]
  },
  {
   "cell_type": "code",
   "execution_count": 2,
   "metadata": {},
   "outputs": [
    {
     "name": "stdout",
     "output_type": "stream",
     "text": [
      "You can open the visualizer by visiting the following URL:\n",
      "http://127.0.0.1:7000/static/\n"
     ]
    }
   ],
   "source": [
    "# This is distributed with the robotpkg-pinocchio package\n",
    "robot_path = \"/opt/openrobots/share/example-robot-data\"\n",
    "urdf_filename = robot_path + \"/robots/panda_description/urdf/panda.urdf\"\n",
    "stl_filename = robot_path + \"/robots/panda_description/meshes/\"\n",
    "\n",
    "# Load the urdf model\n",
    "model, collision_model, visual_model = pin.buildModelsFromUrdf(urdf_filename, \"/opt/openrobots/share\")\n",
    "\n",
    "# visualize the robot\n",
    "viz = MeshcatVisualizer(model=model, collision_model=collision_model, visual_model=visual_model)"
   ]
  },
  {
   "cell_type": "markdown",
   "metadata": {},
   "source": [
    "## Some debugging information"
   ]
  },
  {
   "cell_type": "code",
   "execution_count": 3,
   "metadata": {},
   "outputs": [],
   "source": [
    "q = pin.neutral(model)\n",
    "viz.display(q)\n",
    "viz.displayCollisions(True)"
   ]
  },
  {
   "cell_type": "markdown",
   "metadata": {},
   "source": [
    "We can see some figures here:\n",
    "\n",
    "<img src=\"image/urdf_meshcat.jpg\" style=\"width:600px;\">\n",
    "\n",
    "Collisions and visuals are independent, we can notice collision is more than visuals. This exactly matches to the URDF of fingers one visual have one visual but multiple collisions:\n",
    "\n",
    "```XML\n",
    "<link name=\"panda_rightfinger\">\n",
    "    <visual>\n",
    "        <origin rpy=\"0 0 3.141592653589793\" xyz=\"0 0 0\"/>\n",
    "        <geometry>\n",
    "            <mesh filename=\"package://example-robot-data/robots/panda_description/meshes/visual/finger.dae\" />\n",
    "        </geometry>\n",
    "    </visual>\n",
    "    <!-- screw mount -->\n",
    "    <collision>\n",
    "        <origin rpy=\"0 0 0\" xyz=\"0 -18.5e-3 11e-3\"/>\n",
    "        <geometry>\n",
    "            <box size=\"22e-3 15e-3 20e-3\"/>\n",
    "        </geometry>\n",
    "    </collision>\n",
    "    <!-- cartriage sledge -->\n",
    "    <collision>\n",
    "        <origin rpy=\"0 0 0\" xyz=\"0 -6.8e-3 2.2e-3\"/>\n",
    "        <geometry>\n",
    "            <box size=\"22e-3 8.8e-3 3.8e-3\"/>\n",
    "        </geometry>\n",
    "    </collision>\n",
    "    <!-- And many ... -->\n",
    "</link>\n",
    "```"
   ]
  },
  {
   "cell_type": "code",
   "execution_count": 4,
   "metadata": {},
   "outputs": [],
   "source": [
    "C = collision_model.geometryObjects.tolist()\n",
    "F = model.frames.tolist()\n",
    "V = visual_model.geometryObjects.tolist()\n",
    "J = model.joints.tolist()"
   ]
  },
  {
   "cell_type": "markdown",
   "metadata": {},
   "source": [
    "Lets see some of the important data, the geometry objects and frames that matches to visualization.\n",
    "![C_F_V_objects](image/C_F_V_objects.jpg)\n",
    "\n",
    "They are lists of objects containing the collision, frame and visual information. \n",
    "\n",
    "For [GeometryObject](https://gepettoweb.laas.fr/doc/stack-of-tasks/pinocchio/master/doxygen-html/structpinocchio_1_1GeometryObject.html) object, they are either mesh or primitives like this:\n",
    "\n",
    "![C_mesh_primitives](image/C_mesh_primitives.jpg)"
   ]
  },
  {
   "cell_type": "markdown",
   "metadata": {},
   "source": [
    "## 2 Distance Calculation"
   ]
  },
  {
   "cell_type": "code",
   "execution_count": 5,
   "metadata": {},
   "outputs": [
    {
     "name": "stdout",
     "output_type": "stream",
     "text": [
      "num collision pairs - initial: 123\n",
      "id =  0  :  0  -  1\n",
      "id =  1  :  0  -  2\n",
      "id =  2  :  0  -  3\n",
      "id =  3  :  0  -  4\n",
      "id =  4  :  0  -  5\n",
      "id =  5  :  0  -  6\n",
      "id =  6  :  0  -  7\n",
      "id =  7  :  0  -  8\n",
      "id =  8  :  0  -  9\n",
      "id =  9  :  0  -  10\n",
      "id =  10  :  0  -  11\n",
      "id =  11  :  0  -  12\n",
      "id =  12  :  0  -  13\n",
      "id =  13  :  0  -  14\n",
      "id =  14  :  0  -  15\n",
      "id =  15  :  0  -  16\n",
      "id =  16  :  1  -  2\n",
      "id =  17  :  1  -  3\n",
      "id =  18  :  1  -  4\n",
      "id =  19  :  1  -  5\n",
      "id =  20  :  1  -  6\n",
      "id =  21  :  1  -  7\n",
      "id =  22  :  1  -  8\n",
      "id =  23  :  1  -  9\n",
      "id =  24  :  1  -  10\n",
      "id =  25  :  1  -  11\n",
      "id =  26  :  1  -  12\n",
      "id =  27  :  1  -  13\n",
      "id =  28  :  1  -  14\n",
      "id =  29  :  1  -  15\n",
      "id =  30  :  1  -  16\n",
      "id =  31  :  2  -  3\n",
      "id =  32  :  2  -  4\n",
      "id =  33  :  2  -  5\n",
      "id =  34  :  2  -  6\n",
      "id =  35  :  2  -  7\n",
      "id =  36  :  2  -  8\n",
      "id =  37  :  2  -  9\n",
      "id =  38  :  2  -  10\n",
      "id =  39  :  2  -  11\n",
      "id =  40  :  2  -  12\n",
      "id =  41  :  2  -  13\n",
      "id =  42  :  2  -  14\n",
      "id =  43  :  2  -  15\n",
      "id =  44  :  2  -  16\n",
      "id =  45  :  3  -  4\n",
      "id =  46  :  3  -  5\n",
      "id =  47  :  3  -  6\n",
      "id =  48  :  3  -  7\n",
      "id =  49  :  3  -  8\n",
      "id =  50  :  3  -  9\n",
      "id =  51  :  3  -  10\n",
      "id =  52  :  3  -  11\n",
      "id =  53  :  3  -  12\n",
      "id =  54  :  3  -  13\n",
      "id =  55  :  3  -  14\n",
      "id =  56  :  3  -  15\n",
      "id =  57  :  3  -  16\n",
      "id =  58  :  4  -  5\n",
      "id =  59  :  4  -  6\n",
      "id =  60  :  4  -  7\n",
      "id =  61  :  4  -  8\n",
      "id =  62  :  4  -  9\n",
      "id =  63  :  4  -  10\n",
      "id =  64  :  4  -  11\n",
      "id =  65  :  4  -  12\n",
      "id =  66  :  4  -  13\n",
      "id =  67  :  4  -  14\n",
      "id =  68  :  4  -  15\n",
      "id =  69  :  4  -  16\n",
      "id =  70  :  5  -  6\n",
      "id =  71  :  5  -  7\n",
      "id =  72  :  5  -  8\n",
      "id =  73  :  5  -  9\n",
      "id =  74  :  5  -  10\n",
      "id =  75  :  5  -  11\n",
      "id =  76  :  5  -  12\n",
      "id =  77  :  5  -  13\n",
      "id =  78  :  5  -  14\n",
      "id =  79  :  5  -  15\n",
      "id =  80  :  5  -  16\n",
      "id =  81  :  6  -  7\n",
      "id =  82  :  6  -  8\n",
      "id =  83  :  6  -  9\n",
      "id =  84  :  6  -  10\n",
      "id =  85  :  6  -  11\n",
      "id =  86  :  6  -  12\n",
      "id =  87  :  6  -  13\n",
      "id =  88  :  6  -  14\n",
      "id =  89  :  6  -  15\n",
      "id =  90  :  6  -  16\n",
      "id =  91  :  7  -  9\n",
      "id =  92  :  7  -  10\n",
      "id =  93  :  7  -  11\n",
      "id =  94  :  7  -  12\n",
      "id =  95  :  7  -  13\n",
      "id =  96  :  7  -  14\n",
      "id =  97  :  7  -  15\n",
      "id =  98  :  7  -  16\n",
      "id =  99  :  8  -  9\n",
      "id =  100  :  8  -  10\n",
      "id =  101  :  8  -  11\n",
      "id =  102  :  8  -  12\n",
      "id =  103  :  8  -  13\n",
      "id =  104  :  8  -  14\n",
      "id =  105  :  8  -  15\n",
      "id =  106  :  8  -  16\n",
      "id =  107  :  9  -  13\n",
      "id =  108  :  9  -  14\n",
      "id =  109  :  9  -  15\n",
      "id =  110  :  9  -  16\n",
      "id =  111  :  10  -  13\n",
      "id =  112  :  10  -  14\n",
      "id =  113  :  10  -  15\n",
      "id =  114  :  10  -  16\n",
      "id =  115  :  11  -  13\n",
      "id =  116  :  11  -  14\n",
      "id =  117  :  11  -  15\n",
      "id =  118  :  11  -  16\n",
      "id =  119  :  12  -  13\n",
      "id =  120  :  12  -  14\n",
      "id =  121  :  12  -  15\n",
      "id =  122  :  12  -  16\n"
     ]
    }
   ],
   "source": [
    "collision_model.addAllCollisionPairs()\n",
    "print(\"num collision pairs - initial:\", len(collision_model.collisionPairs))\n",
    "for i in range(len(collision_model.collisionPairs)):\n",
    "    print(\"id = \", i, \" : \", collision_model.collisionPairs[i].first, \" - \", collision_model.collisionPairs[i].second)"
   ]
  },
  {
   "cell_type": "code",
   "execution_count": 6,
   "metadata": {},
   "outputs": [
    {
     "name": "stdout",
     "output_type": "stream",
     "text": [
      "num collision pairs - after srdf removal: 12\n",
      "id =  0  :  0  -  5\n",
      "id =  1  :  0  -  6\n",
      "id =  2  :  0  -  7\n",
      "id =  3  :  0  -  8\n",
      "id =  4  :  1  -  5\n",
      "id =  5  :  1  -  6\n",
      "id =  6  :  1  -  7\n",
      "id =  7  :  1  -  8\n",
      "id =  8  :  2  -  5\n",
      "id =  9  :  2  -  6\n",
      "id =  10  :  2  -  7\n",
      "id =  11  :  2  -  8\n"
     ]
    }
   ],
   "source": [
    "srdf_filename = robot_path + \"/robots/panda_description/srdf/panda.srdf\"\n",
    "import os\n",
    "srdf_filename = os.getcwd() + \"/panda-alternative.srdf\"\n",
    "\n",
    "pin.removeCollisionPairs(model, collision_model, srdf_filename)\n",
    "print(\"num collision pairs - after srdf removal:\", len(collision_model.collisionPairs))\n",
    "for i in range(len(collision_model.collisionPairs)):\n",
    "    print(\"id = \", i, \" : \", collision_model.collisionPairs[i].first, \" - \", collision_model.collisionPairs[i].second)"
   ]
  },
  {
   "cell_type": "code",
   "execution_count": 7,
   "metadata": {},
   "outputs": [],
   "source": [
    "data = model.createData()\n",
    "collision_data = pin.GeometryData(collision_model)"
   ]
  },
  {
   "cell_type": "code",
   "execution_count": 8,
   "metadata": {},
   "outputs": [],
   "source": [
    "#pin.computeCollisions(model, data, collision_model, collision_data, q)"
   ]
  },
  {
   "cell_type": "code",
   "execution_count": 9,
   "metadata": {},
   "outputs": [],
   "source": [
    "#pin.updateGeometryPlacements(model, data, collision_model, collision_data, q)\n",
    "#pin.computeDistances(collision_model, collision_data)"
   ]
  },
  {
   "cell_type": "markdown",
   "metadata": {},
   "source": [
    "collision_model (GeometryModel): \n",
    "- geometryObjects: an vector containing information about each vector\n",
    "  - See above ...\n",
    "  - parent joint: int, the parent joint index\n",
    "  - parent frame: int, \n",
    "  - placement: placement between the parent joint frame and the current frame\n",
    "- collisionPairs: an vector indicating which pairs are in collision\n",
    "  - first: 0\n",
    "  - second: 5\n",
    "- collisionPairMapping: an Matrix indicating the contact information, similar as collisionPairs\n",
    "  - (row 0) [-1, -1, -1, -1, -1, 0, ...] \n",
    "  - (row 5) [0, ...] \n",
    "  - (Object 0 and 5 has CollisionPair 0)\n",
    "\n",
    "collision_distance (GeometryData, getting from ): \n",
    "- activeCollsionPairs: a bool vector indicating if each collision pair is activated\n",
    "- collisionRequests: ... irrelevant\n",
    "- collisionResults: ... irrelevant\n",
    "- collision_functors: ... irrelevant\n",
    "- distanceRequests: something for coal\n",
    "- distanceResults: The data structure that saves the distance Calculation Result\n",
    "  - min_dustance: minimum distance\n",
    "  - nearest_points: an array that has 2 points indicating the contacts\n",
    "- distance_functors: something for coal\n",
    "- oMg: The frame position of each geometryObject\n",
    "- radius: ... empty?\n",
    "\n",
    "updateGeometryPlacements: GeometryData.oMg[i] is updated from Data.oMi of parent joint (if avaliable) and GeometryObject[i].placement\n",
    "\n",
    "<img src=\"image/updateGeometry.jpg\" style=\"width:600px;\">\n",
    "\n",
    "computeDistances: use for each [i] GeometryData.oMg[first/second], Geometry.distance_functors to update GeometryData.distance_request and GeometryData.distance_result\n",
    "\n",
    "<img src=\"image/computeDistance.jpg\" style=\"width:600px;\">"
   ]
  },
  {
   "cell_type": "markdown",
   "metadata": {},
   "source": [
    "# 3 Make up our obstacles as new collision consideration"
   ]
  },
  {
   "cell_type": "code",
   "execution_count": null,
   "metadata": {},
   "outputs": [],
   "source": [
    "# remove all collision pairs to ignore the collisions\n",
    "geom_model = pin.GeometryModel(collision_model)\n",
    "collision_model.removeAllCollisionPairs()\n"
   ]
  },
  {
   "cell_type": "code",
   "execution_count": 12,
   "metadata": {},
   "outputs": [],
   "source": [
    "# debug this line to view variables\n",
    "a = 0"
   ]
  }
 ],
 "metadata": {
  "kernelspec": {
   "display_name": "Python 3",
   "language": "python",
   "name": "python3"
  },
  "language_info": {
   "codemirror_mode": {
    "name": "ipython",
    "version": 3
   },
   "file_extension": ".py",
   "mimetype": "text/x-python",
   "name": "python",
   "nbconvert_exporter": "python",
   "pygments_lexer": "ipython3",
   "version": "3.8.10"
  }
 },
 "nbformat": 4,
 "nbformat_minor": 2
}
